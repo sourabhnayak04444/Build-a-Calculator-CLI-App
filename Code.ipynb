{
  "nbformat": 4,
  "nbformat_minor": 0,
  "metadata": {
    "colab": {
      "private_outputs": true,
      "provenance": [],
      "authorship_tag": "ABX9TyNqyIPh7dZniELW23r4fTtG",
      "include_colab_link": true
    },
    "kernelspec": {
      "name": "python3",
      "display_name": "Python 3"
    },
    "language_info": {
      "name": "python"
    }
  },
  "cells": [
    {
      "cell_type": "markdown",
      "metadata": {
        "id": "view-in-github",
        "colab_type": "text"
      },
      "source": [
        "<a href=\"https://colab.research.google.com/github/sourabhnayak04444/Build-a-Calculator-CLI-App/blob/main/Code.ipynb\" target=\"_parent\"><img src=\"https://colab.research.google.com/assets/colab-badge.svg\" alt=\"Open In Colab\"/></a>"
      ]
    },
    {
      "cell_type": "code",
      "source": [
        "import sys\n",
        "\n",
        "def add(num1, num2):\n",
        "    return num1 + num2\n",
        "\n",
        "def subtract(num1, num2):\n",
        "    return num1 - num2\n",
        "\n",
        "def multiply(num1, num2):\n",
        "    return num1 * num2\n",
        "\n",
        "def divide(num1, num2):\n",
        "    if num2 == 0:\n",
        "        return \"Error: Cannot divide by zero.\"\n",
        "    return num1 / num2\n",
        "\n",
        "def run_calculator():\n",
        "    print(\"Welcome to the Python CLI Calculator!\")\n",
        "    print(\"Available operations: add (+), subtract (-), multiply (*), divide (/)\")\n",
        "\n",
        "    while True:\n",
        "        print(\"\\n\" + \"=\"*40)\n",
        "        choice = input(\n",
        "            \"Enter operation symbol (+, -, *, /) or type 'exit' to quit: \"\n",
        "        ).lower().strip()\n",
        "        if choice == 'exit':\n",
        "            print(\"Thank you for using the calculator. Goodbye!\")\n",
        "            break\n",
        "        if choice not in ('+', '-', '*', '/'):\n",
        "            print(\"Invalid choice. Please enter a valid operation symbol or 'exit'.\")\n",
        "            continue\n",
        "\n",
        "        try:\n",
        "            num1 = float(input(\"Enter first number: \"))\n",
        "            num2 = float(input(\"Enter second number: \"))\n",
        "\n",
        "        except ValueError:\n",
        "            print(\"Invalid input. Please enter valid numerical values.\")\n",
        "            continue\n",
        "\n",
        "        result = None\n",
        "        operation_name = \"\"\n",
        "\n",
        "        if choice == '+':\n",
        "            result = add(num1, num2)\n",
        "            operation_name = \"Addition\"\n",
        "        elif choice == '-':\n",
        "            result = subtract(num1, num2)\n",
        "            operation_name = \"Subtraction\"\n",
        "        elif choice == '*':\n",
        "            result = multiply(num1, num2)\n",
        "            operation_name = \"Multiplication\"\n",
        "        elif choice == '/':\n",
        "            result = divide(num1, num2)\n",
        "            operation_name = \"Division\"\n",
        "\n",
        "        if isinstance(result, str) and \"Error\" in result:\n",
        "            print(f\"\\n{result}\")\n",
        "        else:\n",
        "            print(f\"\\n{operation_name} Result: {num1} {choice} {num2} = {result}\")\n",
        "\n",
        "\n",
        "if __name__ == \"__main__\":\n",
        "    run_calculator()"
      ],
      "metadata": {
        "id": "ZcPCCp8v95Qv"
      },
      "execution_count": null,
      "outputs": []
    },
    {
      "cell_type": "code",
      "source": [],
      "metadata": {
        "id": "D83H8vWB985f"
      },
      "execution_count": null,
      "outputs": []
    }
  ]
}